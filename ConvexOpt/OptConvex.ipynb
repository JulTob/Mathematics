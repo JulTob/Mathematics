{
  "nbformat": 4,
  "nbformat_minor": 0,
  "metadata": {
    "colab": {
      "provenance": [],
      "authorship_tag": "ABX9TyMCRIPQpbtQ++HBBOKJbC8M",
      "include_colab_link": true
    },
    "kernelspec": {
      "name": "python3",
      "display_name": "Python 3"
    },
    "language_info": {
      "name": "python"
    }
  },
  "cells": [
    {
      "cell_type": "markdown",
      "metadata": {
        "id": "view-in-github",
        "colab_type": "text"
      },
      "source": [
        "<a href=\"https://colab.research.google.com/github/JulTob/Mathematics/blob/master/ConvexOpt/OptConvex.ipynb\" target=\"_parent\"><img src=\"https://colab.research.google.com/assets/colab-badge.svg\" alt=\"Open In Colab\"/></a>"
      ]
    },
    {
      "cell_type": "markdown",
      "source": [
        "# 0. Libraries and Preparations"
      ],
      "metadata": {
        "id": "brwDLgjpm-Ir"
      }
    },
    {
      "cell_type": "markdown",
      "source": [
        "> Run all code twice, for the kernerll should crash first, and then the code will work finding all dependencies."
      ],
      "metadata": {
        "id": "qDGmguA6nvL5"
      }
    },
    {
      "cell_type": "code",
      "source": [
        "# (1) Paquetes del sistema para Cairo/Pango + toolchain\n",
        "!sudo apt-get update -y\n",
        "!sudo apt-get install -y \\\n",
        "  build-essential pkg-config ninja-build \\\n",
        "  libcairo2-dev libpango1.0-dev libglib2.0-dev libharfbuzz-dev \\\n",
        "  ffmpeg"
      ],
      "metadata": {
        "colab": {
          "base_uri": "https://localhost:8080/"
        },
        "id": "Zjmx2bhVm-kN",
        "outputId": "87690c9f-696e-4667-83f8-2fecf247508d"
      },
      "execution_count": 1,
      "outputs": [
        {
          "output_type": "stream",
          "name": "stdout",
          "text": [
            "\r0% [Working]\r            \rHit:1 http://archive.ubuntu.com/ubuntu jammy InRelease\n",
            "\r            \rHit:2 http://security.ubuntu.com/ubuntu jammy-security InRelease\n",
            "\r0% [Connected to cloud.r-project.org (65.9.86.118)] [Connecting to r2u.stat.ill\r                                                                               \rHit:3 http://archive.ubuntu.com/ubuntu jammy-updates InRelease\n",
            "Hit:4 http://archive.ubuntu.com/ubuntu jammy-backports InRelease\n",
            "Hit:5 https://developer.download.nvidia.com/compute/cuda/repos/ubuntu2204/x86_64  InRelease\n",
            "Hit:6 https://cli.github.com/packages stable InRelease\n",
            "Hit:7 https://cloud.r-project.org/bin/linux/ubuntu jammy-cran40/ InRelease\n",
            "Hit:8 https://ppa.launchpadcontent.net/deadsnakes/ppa/ubuntu jammy InRelease\n",
            "Hit:9 https://ppa.launchpadcontent.net/graphics-drivers/ppa/ubuntu jammy InRelease\n",
            "Hit:10 https://ppa.launchpadcontent.net/ubuntugis/ppa/ubuntu jammy InRelease\n",
            "Hit:11 https://r2u.stat.illinois.edu/ubuntu jammy InRelease\n",
            "Reading package lists... Done\n",
            "W: Skipping acquire of configured file 'main/source/Sources' as repository 'https://r2u.stat.illinois.edu/ubuntu jammy InRelease' does not seem to provide it (sources.list entry misspelt?)\n",
            "Reading package lists... Done\n",
            "Building dependency tree... Done\n",
            "Reading state information... Done\n",
            "build-essential is already the newest version (12.9ubuntu3).\n",
            "libcairo2-dev is already the newest version (1.16.0-5ubuntu2).\n",
            "pkg-config is already the newest version (0.29.2-1ubuntu3).\n",
            "ninja-build is already the newest version (1.10.1-1).\n",
            "libglib2.0-dev is already the newest version (2.72.4-0ubuntu2.6).\n",
            "libharfbuzz-dev is already the newest version (2.7.4-1ubuntu3.2).\n",
            "libpango1.0-dev is already the newest version (1.50.6+ds-2ubuntu1).\n",
            "ffmpeg is already the newest version (7:4.4.2-0ubuntu0.22.04.1).\n",
            "The following packages were automatically installed and are no longer required:\n",
            "  libbz2-dev libpkgconf3 libreadline-dev\n",
            "Use 'sudo apt autoremove' to remove them.\n",
            "0 upgraded, 0 newly installed, 0 to remove and 46 not upgraded.\n"
          ]
        }
      ]
    },
    {
      "cell_type": "code",
      "source": [
        "%pip install -U pip wheel\n",
        "%pip install -U manim manimpango pycairo\n",
        "%load_ext manim"
      ],
      "metadata": {
        "colab": {
          "base_uri": "https://localhost:8080/"
        },
        "id": "mJnLRW0AnCsh",
        "outputId": "ccf9a1e1-ca46-466f-e15f-415107a21a4f"
      },
      "execution_count": 2,
      "outputs": [
        {
          "output_type": "stream",
          "name": "stdout",
          "text": [
            "Requirement already satisfied: pip in /usr/local/lib/python3.12/dist-packages (25.3)\n",
            "Requirement already satisfied: wheel in /usr/local/lib/python3.12/dist-packages (0.45.1)\n",
            "Requirement already satisfied: manim in /usr/local/lib/python3.12/dist-packages (0.19.0)\n",
            "Requirement already satisfied: manimpango in /usr/local/lib/python3.12/dist-packages (0.6.1)\n",
            "Requirement already satisfied: pycairo in /usr/local/lib/python3.12/dist-packages (1.28.0)\n",
            "Requirement already satisfied: Pillow>=9.1 in /usr/local/lib/python3.12/dist-packages (from manim) (11.3.0)\n",
            "Requirement already satisfied: Pygments>=2.0.0 in /usr/local/lib/python3.12/dist-packages (from manim) (2.19.2)\n",
            "Requirement already satisfied: av<14.0.0,>=9.0.0 in /usr/local/lib/python3.12/dist-packages (from manim) (13.1.0)\n",
            "Requirement already satisfied: beautifulsoup4>=4.12 in /usr/local/lib/python3.12/dist-packages (from manim) (4.13.5)\n",
            "Requirement already satisfied: click>=8.0 in /usr/local/lib/python3.12/dist-packages (from manim) (8.3.0)\n",
            "Requirement already satisfied: cloup>=2.0.0 in /usr/local/lib/python3.12/dist-packages (from manim) (3.0.8)\n",
            "Requirement already satisfied: decorator>=4.3.2 in /usr/local/lib/python3.12/dist-packages (from manim) (4.4.2)\n",
            "Requirement already satisfied: isosurfaces>=0.1.0 in /usr/local/lib/python3.12/dist-packages (from manim) (0.1.2)\n",
            "Requirement already satisfied: mapbox-earcut>=1.0.0 in /usr/local/lib/python3.12/dist-packages (from manim) (1.0.3)\n",
            "Requirement already satisfied: moderngl<6.0.0,>=5.0.0 in /usr/local/lib/python3.12/dist-packages (from manim) (5.12.0)\n",
            "Requirement already satisfied: moderngl-window>=2.0.0 in /usr/local/lib/python3.12/dist-packages (from manim) (3.1.1)\n",
            "Requirement already satisfied: networkx>=2.6 in /usr/local/lib/python3.12/dist-packages (from manim) (3.5)\n",
            "Requirement already satisfied: numpy>=2.1 in /usr/local/lib/python3.12/dist-packages (from manim) (2.3.4)\n",
            "Requirement already satisfied: pydub>=0.20.0 in /usr/local/lib/python3.12/dist-packages (from manim) (0.25.1)\n",
            "Requirement already satisfied: rich>=12.0.0 in /usr/local/lib/python3.12/dist-packages (from manim) (13.9.4)\n",
            "Requirement already satisfied: scipy>=1.13.0 in /usr/local/lib/python3.12/dist-packages (from manim) (1.16.3)\n",
            "Requirement already satisfied: screeninfo>=0.7 in /usr/local/lib/python3.12/dist-packages (from manim) (0.8.1)\n",
            "Requirement already satisfied: skia-pathops>=0.7.0 in /usr/local/lib/python3.12/dist-packages (from manim) (0.8.0.post2)\n",
            "Requirement already satisfied: srt>=3.0.0 in /usr/local/lib/python3.12/dist-packages (from manim) (3.5.3)\n",
            "Requirement already satisfied: svgelements>=1.8.0 in /usr/local/lib/python3.12/dist-packages (from manim) (1.9.6)\n",
            "Requirement already satisfied: tqdm>=4.0.0 in /usr/local/lib/python3.12/dist-packages (from manim) (4.67.1)\n",
            "Requirement already satisfied: typing-extensions>=4.0.0 in /usr/local/lib/python3.12/dist-packages (from manim) (4.15.0)\n",
            "Requirement already satisfied: watchdog>=2.0.0 in /usr/local/lib/python3.12/dist-packages (from manim) (6.0.0)\n",
            "Requirement already satisfied: glcontext>=3.0.0 in /usr/local/lib/python3.12/dist-packages (from moderngl<6.0.0,>=5.0.0->manim) (3.0.0)\n",
            "Requirement already satisfied: soupsieve>1.2 in /usr/local/lib/python3.12/dist-packages (from beautifulsoup4>=4.12->manim) (2.8)\n",
            "Requirement already satisfied: pyglet>=2.0.0 in /usr/local/lib/python3.12/dist-packages (from moderngl-window>=2.0.0->manim) (2.1.9)\n",
            "Requirement already satisfied: pyglm<3,>=2.7.0 in /usr/local/lib/python3.12/dist-packages (from moderngl-window>=2.0.0->manim) (2.8.2)\n",
            "Requirement already satisfied: markdown-it-py>=2.2.0 in /usr/local/lib/python3.12/dist-packages (from rich>=12.0.0->manim) (4.0.0)\n",
            "Requirement already satisfied: mdurl~=0.1 in /usr/local/lib/python3.12/dist-packages (from markdown-it-py>=2.2.0->rich>=12.0.0->manim) (0.1.2)\n"
          ]
        },
        {
          "output_type": "stream",
          "name": "stderr",
          "text": [
            "/usr/local/lib/python3.12/dist-packages/pydub/utils.py:300: SyntaxWarning: invalid escape sequence '\\('\n",
            "  m = re.match('([su]([0-9]{1,2})p?) \\(([0-9]{1,2}) bit\\)$', token)\n",
            "/usr/local/lib/python3.12/dist-packages/pydub/utils.py:301: SyntaxWarning: invalid escape sequence '\\('\n",
            "  m2 = re.match('([su]([0-9]{1,2})p?)( \\(default\\))?$', token)\n",
            "/usr/local/lib/python3.12/dist-packages/pydub/utils.py:310: SyntaxWarning: invalid escape sequence '\\('\n",
            "  elif re.match('(flt)p?( \\(default\\))?$', token):\n",
            "/usr/local/lib/python3.12/dist-packages/pydub/utils.py:314: SyntaxWarning: invalid escape sequence '\\('\n",
            "  elif re.match('(dbl)p?( \\(default\\))?$', token):\n"
          ]
        },
        {
          "output_type": "stream",
          "name": "stdout",
          "text": [
            "The manim module is not an IPython extension.\n"
          ]
        }
      ]
    },
    {
      "cell_type": "code",
      "source": [
        "!sudo apt-get install -y texlive-latex-extra texlive-fonts-extra texlive-pictures texlive-science texlive-latex-recommended"
      ],
      "metadata": {
        "colab": {
          "base_uri": "https://localhost:8080/"
        },
        "id": "aF88aVrAnQs0",
        "outputId": "b26979f2-fa38-4d81-db13-e7745058bfc0"
      },
      "execution_count": 3,
      "outputs": [
        {
          "output_type": "stream",
          "name": "stdout",
          "text": [
            "Reading package lists... Done\n",
            "Building dependency tree... Done\n",
            "Reading state information... Done\n",
            "The following packages were automatically installed and are no longer required:\n",
            "  libbz2-dev libpkgconf3 libreadline-dev\n",
            "Use 'sudo apt autoremove' to remove them.\n",
            "The following additional packages will be installed:\n",
            "  dvisvgm fonts-adf-accanthis fonts-adf-berenis fonts-adf-gillius\n",
            "  fonts-adf-universalis fonts-cabin fonts-cantarell fonts-comfortaa\n",
            "  fonts-croscore fonts-crosextra-caladea fonts-crosextra-carlito\n",
            "  fonts-dejavu-core fonts-dejavu-extra fonts-droid-fallback fonts-ebgaramond\n",
            "  fonts-ebgaramond-extra fonts-font-awesome fonts-freefont-otf\n",
            "  fonts-freefont-ttf fonts-gfs-artemisia fonts-gfs-baskerville\n",
            "  fonts-gfs-complutum fonts-gfs-didot fonts-gfs-neohellenic fonts-gfs-olga\n",
            "  fonts-gfs-porson fonts-gfs-solomos fonts-go fonts-junicode fonts-lato\n",
            "  fonts-linuxlibertine fonts-lmodern fonts-lobster fonts-lobstertwo\n",
            "  fonts-noto-color-emoji fonts-noto-core fonts-noto-mono fonts-oflb-asana-math\n",
            "  fonts-open-sans fonts-roboto-unhinted fonts-sil-charis fonts-sil-gentium\n",
            "  fonts-sil-gentium-basic fonts-sil-gentiumplus fonts-sil-gentiumplus-compact\n",
            "  fonts-stix fonts-texgyre fonts-urw-base35 libapache-pom-java\n",
            "  libcommons-logging-java libcommons-parent-java libfontbox-java libgs9\n",
            "  libgs9-common libidn12 libijs-0.35 libjbig2dec0 libkpathsea6 libpdfbox-java\n",
            "  libptexenc1 libruby3.0 libsynctex2 libteckit0 libtexlua53 libtexluajit2\n",
            "  libwoff1 libzzip-0-13 lmodern poppler-data preview-latex-style rake ruby\n",
            "  ruby-net-telnet ruby-rubygems ruby-webrick ruby-xmlrpc ruby3.0\n",
            "  rubygems-integration t1utils tex-common tex-gyre texlive-base\n",
            "  texlive-binaries texlive-fonts-extra-links texlive-fonts-recommended\n",
            "  texlive-lang-greek texlive-latex-base texlive-plain-generic tipa\n",
            "  xfonts-encodings xfonts-utils\n",
            "Suggested packages:\n",
            "  fonts-noto fontforge libavalon-framework-java libcommons-logging-java-doc\n",
            "  libexcalibur-logkit-java liblog4j1.2-java poppler-utils ghostscript\n",
            "  fonts-japanese-mincho | fonts-ipafont-mincho fonts-japanese-gothic\n",
            "  | fonts-ipafont-gothic fonts-arphic-ukai fonts-arphic-uming fonts-nanum ri\n",
            "  ruby-dev bundler debhelper gv | postscript-viewer perl-tk xpdf | pdf-viewer\n",
            "  xzdec cm-super texlive-fonts-extra-doc texlive-fonts-recommended-doc\n",
            "  texlive-latex-base-doc python3-pygments icc-profiles libfile-which-perl\n",
            "  libspreadsheet-parseexcel-perl texlive-latex-extra-doc\n",
            "  texlive-latex-recommended-doc texlive-luatex texlive-pstricks dot2tex prerex\n",
            "  texlive-pictures-doc vprerex default-jre-headless texlive-science-doc\n",
            "  tipa-doc\n",
            "The following NEW packages will be installed:\n",
            "  dvisvgm fonts-adf-accanthis fonts-adf-berenis fonts-adf-gillius\n",
            "  fonts-adf-universalis fonts-cabin fonts-cantarell fonts-comfortaa\n",
            "  fonts-croscore fonts-crosextra-caladea fonts-crosextra-carlito\n",
            "  fonts-dejavu-core fonts-dejavu-extra fonts-droid-fallback fonts-ebgaramond\n",
            "  fonts-ebgaramond-extra fonts-font-awesome fonts-freefont-otf\n",
            "  fonts-freefont-ttf fonts-gfs-artemisia fonts-gfs-baskerville\n",
            "  fonts-gfs-complutum fonts-gfs-didot fonts-gfs-neohellenic fonts-gfs-olga\n",
            "  fonts-gfs-porson fonts-gfs-solomos fonts-go fonts-junicode fonts-lato\n",
            "  fonts-linuxlibertine fonts-lmodern fonts-lobster fonts-lobstertwo\n",
            "  fonts-noto-color-emoji fonts-noto-core fonts-noto-mono fonts-oflb-asana-math\n",
            "  fonts-open-sans fonts-roboto-unhinted fonts-sil-charis fonts-sil-gentium\n",
            "  fonts-sil-gentium-basic fonts-sil-gentiumplus fonts-sil-gentiumplus-compact\n",
            "  fonts-stix fonts-texgyre fonts-urw-base35 libapache-pom-java\n",
            "  libcommons-logging-java libcommons-parent-java libfontbox-java libgs9\n",
            "  libgs9-common libidn12 libijs-0.35 libjbig2dec0 libkpathsea6 libpdfbox-java\n",
            "  libptexenc1 libruby3.0 libsynctex2 libteckit0 libtexlua53 libtexluajit2\n",
            "  libwoff1 libzzip-0-13 lmodern poppler-data preview-latex-style rake ruby\n",
            "  ruby-net-telnet ruby-rubygems ruby-webrick ruby-xmlrpc ruby3.0\n",
            "  rubygems-integration t1utils tex-common tex-gyre texlive-base\n",
            "  texlive-binaries texlive-fonts-extra texlive-fonts-extra-links\n",
            "  texlive-fonts-recommended texlive-lang-greek texlive-latex-base\n",
            "  texlive-latex-extra texlive-latex-recommended texlive-pictures\n",
            "  texlive-plain-generic texlive-science tipa xfonts-encodings xfonts-utils\n",
            "0 upgraded, 96 newly installed, 0 to remove and 46 not upgraded.\n",
            "Need to get 794 MB of archives.\n",
            "After this operation, 2,202 MB of additional disk space will be used.\n",
            "Get:1 http://archive.ubuntu.com/ubuntu jammy/main amd64 fonts-droid-fallback all 1:6.0.1r16-1.1build1 [1,805 kB]\n",
            "Get:2 http://archive.ubuntu.com/ubuntu jammy/main amd64 fonts-lato all 2.0-2.1 [2,696 kB]\n",
            "Get:3 http://archive.ubuntu.com/ubuntu jammy/main amd64 poppler-data all 0.4.11-1 [2,171 kB]\n",
            "Get:4 http://archive.ubuntu.com/ubuntu jammy/universe amd64 tex-common all 6.17 [33.7 kB]\n",
            "Get:5 http://archive.ubuntu.com/ubuntu jammy/main amd64 fonts-urw-base35 all 20200910-1 [6,367 kB]\n",
            "Get:6 http://archive.ubuntu.com/ubuntu jammy-updates/main amd64 libgs9-common all 9.55.0~dfsg1-0ubuntu5.13 [753 kB]\n",
            "Get:7 http://archive.ubuntu.com/ubuntu jammy-updates/main amd64 libidn12 amd64 1.38-4ubuntu1 [60.0 kB]\n",
            "Get:8 http://archive.ubuntu.com/ubuntu jammy/main amd64 libijs-0.35 amd64 0.35-15build2 [16.5 kB]\n",
            "Get:9 http://archive.ubuntu.com/ubuntu jammy/main amd64 libjbig2dec0 amd64 0.19-3build2 [64.7 kB]\n",
            "Get:10 http://archive.ubuntu.com/ubuntu jammy-updates/main amd64 libgs9 amd64 9.55.0~dfsg1-0ubuntu5.13 [5,032 kB]\n",
            "Get:11 http://archive.ubuntu.com/ubuntu jammy-updates/main amd64 libkpathsea6 amd64 2021.20210626.59705-1ubuntu0.2 [60.4 kB]\n",
            "Get:12 http://archive.ubuntu.com/ubuntu jammy/main amd64 libwoff1 amd64 1.0.2-1build4 [45.2 kB]\n",
            "Get:13 http://archive.ubuntu.com/ubuntu jammy/universe amd64 dvisvgm amd64 2.13.1-1 [1,221 kB]\n",
            "Get:14 http://archive.ubuntu.com/ubuntu jammy/universe amd64 fonts-adf-accanthis all 0.20190904-2 [203 kB]\n",
            "Get:15 http://archive.ubuntu.com/ubuntu jammy/universe amd64 fonts-adf-berenis all 0.20190904-2 [313 kB]\n",
            "Get:16 http://archive.ubuntu.com/ubuntu jammy/universe amd64 fonts-adf-gillius all 0.20190904-2 [190 kB]\n",
            "Get:17 http://archive.ubuntu.com/ubuntu jammy/universe amd64 fonts-adf-universalis all 0.20190904-2 [112 kB]\n",
            "Get:18 http://archive.ubuntu.com/ubuntu jammy/universe amd64 fonts-cabin all 1.5-3 [141 kB]\n",
            "Get:19 http://archive.ubuntu.com/ubuntu jammy/universe amd64 fonts-cantarell all 0.303-2 [286 kB]\n",
            "Get:20 http://archive.ubuntu.com/ubuntu jammy/universe amd64 fonts-comfortaa all 3.001-3 [129 kB]\n",
            "Get:21 http://archive.ubuntu.com/ubuntu jammy/universe amd64 fonts-croscore all 20201225-1build1 [1,572 kB]\n",
            "Get:22 http://archive.ubuntu.com/ubuntu jammy/universe amd64 fonts-crosextra-caladea all 20130214-2.1 [82.4 kB]\n",
            "Get:23 http://archive.ubuntu.com/ubuntu jammy/universe amd64 fonts-crosextra-carlito all 20130920-1.1 [743 kB]\n",
            "Get:24 http://archive.ubuntu.com/ubuntu jammy/main amd64 fonts-dejavu-core all 2.37-2build1 [1,041 kB]\n",
            "Get:25 http://archive.ubuntu.com/ubuntu jammy/main amd64 fonts-dejavu-extra all 2.37-2build1 [2,041 kB]\n",
            "Get:26 http://archive.ubuntu.com/ubuntu jammy/universe amd64 fonts-ebgaramond all 0.016+git20210310.42d4f9f2-1 [512 kB]\n",
            "Get:27 http://archive.ubuntu.com/ubuntu jammy/universe amd64 fonts-ebgaramond-extra all 0.016+git20210310.42d4f9f2-1 [2,233 kB]\n",
            "Get:28 http://archive.ubuntu.com/ubuntu jammy/main amd64 fonts-font-awesome all 5.0.10+really4.7.0~dfsg-4.1 [516 kB]\n",
            "Get:29 http://archive.ubuntu.com/ubuntu jammy/universe amd64 fonts-freefont-otf all 20120503-10build1 [3,054 kB]\n",
            "Get:30 http://archive.ubuntu.com/ubuntu jammy/main amd64 fonts-freefont-ttf all 20120503-10build1 [2,388 kB]\n",
            "Get:31 http://archive.ubuntu.com/ubuntu jammy/universe amd64 fonts-gfs-artemisia all 1.1-6 [260 kB]\n",
            "Get:32 http://archive.ubuntu.com/ubuntu jammy/universe amd64 fonts-gfs-baskerville all 1.1-6 [43.7 kB]\n",
            "Get:33 http://archive.ubuntu.com/ubuntu jammy/universe amd64 fonts-gfs-complutum all 1.1-7 [41.8 kB]\n",
            "Get:34 http://archive.ubuntu.com/ubuntu jammy/universe amd64 fonts-gfs-didot all 1.1-7 [278 kB]\n",
            "Get:35 http://archive.ubuntu.com/ubuntu jammy/universe amd64 fonts-gfs-neohellenic all 1.1-7 [215 kB]\n",
            "Get:36 http://archive.ubuntu.com/ubuntu jammy/universe amd64 fonts-gfs-olga all 1.1-6 [33.5 kB]\n",
            "Get:37 http://archive.ubuntu.com/ubuntu jammy/universe amd64 fonts-gfs-porson all 1.1-7 [33.9 kB]\n",
            "Get:38 http://archive.ubuntu.com/ubuntu jammy/universe amd64 fonts-gfs-solomos all 1.1-6 [40.9 kB]\n",
            "Get:39 http://archive.ubuntu.com/ubuntu jammy/universe amd64 fonts-go all 0~20170330-1 [369 kB]\n",
            "Get:40 http://archive.ubuntu.com/ubuntu jammy/universe amd64 fonts-junicode all 1.002-2 [828 kB]\n",
            "Get:41 http://archive.ubuntu.com/ubuntu jammy/universe amd64 fonts-linuxlibertine all 5.3.0-6 [1,627 kB]\n",
            "Get:42 http://archive.ubuntu.com/ubuntu jammy/universe amd64 fonts-lmodern all 2.004.5-6.1 [4,532 kB]\n",
            "Get:43 http://archive.ubuntu.com/ubuntu jammy/universe amd64 fonts-lobster all 2.0-2.1 [38.9 kB]\n",
            "Get:44 http://archive.ubuntu.com/ubuntu jammy/universe amd64 fonts-lobstertwo all 2.0-2.1 [93.3 kB]\n",
            "Get:45 http://archive.ubuntu.com/ubuntu jammy-updates/main amd64 fonts-noto-color-emoji all 2.047-0ubuntu0.22.04.1 [10.0 MB]\n",
            "Get:46 http://archive.ubuntu.com/ubuntu jammy/main amd64 fonts-noto-core all 20201225-1build1 [12.2 MB]\n",
            "Get:47 http://archive.ubuntu.com/ubuntu jammy/main amd64 fonts-noto-mono all 20201225-1build1 [397 kB]\n",
            "Get:48 http://archive.ubuntu.com/ubuntu jammy/universe amd64 fonts-oflb-asana-math all 000.907-7build1 [245 kB]\n",
            "Get:49 http://archive.ubuntu.com/ubuntu jammy/universe amd64 fonts-open-sans all 1.11-2 [635 kB]\n",
            "Get:50 http://archive.ubuntu.com/ubuntu jammy/universe amd64 fonts-roboto-unhinted all 2:0~20170802-3 [2,376 kB]\n",
            "Get:51 http://archive.ubuntu.com/ubuntu jammy/universe amd64 fonts-sil-charis all 6.101-1 [3,973 kB]\n",
            "Get:52 http://archive.ubuntu.com/ubuntu jammy/universe amd64 fonts-sil-gentium all 20081126:1.03-4 [245 kB]\n",
            "Get:53 http://archive.ubuntu.com/ubuntu jammy/universe amd64 fonts-sil-gentium-basic all 1.102-1.1 [384 kB]\n",
            "Get:54 http://archive.ubuntu.com/ubuntu jammy/universe amd64 fonts-sil-gentiumplus all 6.101-1 [8,086 kB]\n",
            "Get:55 http://archive.ubuntu.com/ubuntu jammy/universe amd64 fonts-sil-gentiumplus-compact all 5.000-4 [1,514 kB]\n",
            "Get:56 http://archive.ubuntu.com/ubuntu jammy/universe amd64 fonts-texgyre all 20180621-3.1 [10.2 MB]\n",
            "Get:57 http://archive.ubuntu.com/ubuntu jammy/universe amd64 libapache-pom-java all 18-1 [4,720 B]\n",
            "Get:58 http://archive.ubuntu.com/ubuntu jammy/universe amd64 libcommons-parent-java all 43-1 [10.8 kB]\n",
            "Get:59 http://archive.ubuntu.com/ubuntu jammy/universe amd64 libcommons-logging-java all 1.2-2 [60.3 kB]\n",
            "Get:60 http://archive.ubuntu.com/ubuntu jammy-updates/main amd64 libptexenc1 amd64 2021.20210626.59705-1ubuntu0.2 [39.1 kB]\n",
            "Get:61 http://archive.ubuntu.com/ubuntu jammy/main amd64 rubygems-integration all 1.18 [5,336 B]\n",
            "Get:62 http://archive.ubuntu.com/ubuntu jammy-updates/main amd64 ruby3.0 amd64 3.0.2-7ubuntu2.11 [50.1 kB]\n",
            "Get:63 http://archive.ubuntu.com/ubuntu jammy-updates/main amd64 ruby-rubygems all 3.3.5-2ubuntu1.2 [228 kB]\n",
            "Get:64 http://archive.ubuntu.com/ubuntu jammy/main amd64 ruby amd64 1:3.0~exp1 [5,100 B]\n",
            "Get:65 http://archive.ubuntu.com/ubuntu jammy/main amd64 rake all 13.0.6-2 [61.7 kB]\n",
            "Get:66 http://archive.ubuntu.com/ubuntu jammy/main amd64 ruby-net-telnet all 0.1.1-2 [12.6 kB]\n",
            "Get:67 http://archive.ubuntu.com/ubuntu jammy-updates/main amd64 ruby-webrick all 1.7.0-3ubuntu0.2 [52.5 kB]\n",
            "Get:68 http://archive.ubuntu.com/ubuntu jammy-updates/main amd64 ruby-xmlrpc all 0.3.2-1ubuntu0.1 [24.9 kB]\n",
            "Get:69 http://archive.ubuntu.com/ubuntu jammy-updates/main amd64 libruby3.0 amd64 3.0.2-7ubuntu2.11 [5,114 kB]\n",
            "Get:70 http://archive.ubuntu.com/ubuntu jammy-updates/main amd64 libsynctex2 amd64 2021.20210626.59705-1ubuntu0.2 [55.6 kB]\n",
            "Get:71 http://archive.ubuntu.com/ubuntu jammy/universe amd64 libteckit0 amd64 2.5.11+ds1-1 [421 kB]\n",
            "Get:72 http://archive.ubuntu.com/ubuntu jammy-updates/main amd64 libtexlua53 amd64 2021.20210626.59705-1ubuntu0.2 [120 kB]\n",
            "Get:73 http://archive.ubuntu.com/ubuntu jammy-updates/main amd64 libtexluajit2 amd64 2021.20210626.59705-1ubuntu0.2 [267 kB]\n",
            "Get:74 http://archive.ubuntu.com/ubuntu jammy/universe amd64 libzzip-0-13 amd64 0.13.72+dfsg.1-1.1 [27.0 kB]\n",
            "Get:75 http://archive.ubuntu.com/ubuntu jammy/main amd64 xfonts-encodings all 1:1.0.5-0ubuntu2 [578 kB]\n",
            "Get:76 http://archive.ubuntu.com/ubuntu jammy/main amd64 xfonts-utils amd64 1:7.7+6build2 [94.6 kB]\n",
            "Get:77 http://archive.ubuntu.com/ubuntu jammy/universe amd64 lmodern all 2.004.5-6.1 [9,471 kB]\n",
            "Get:78 http://archive.ubuntu.com/ubuntu jammy/universe amd64 preview-latex-style all 12.2-1ubuntu1 [185 kB]\n",
            "Get:79 http://archive.ubuntu.com/ubuntu jammy/main amd64 t1utils amd64 1.41-4build2 [61.3 kB]\n",
            "Get:80 http://archive.ubuntu.com/ubuntu jammy/universe amd64 tex-gyre all 20180621-3.1 [6,209 kB]\n",
            "Get:81 http://archive.ubuntu.com/ubuntu jammy-updates/universe amd64 texlive-binaries amd64 2021.20210626.59705-1ubuntu0.2 [9,860 kB]\n",
            "Get:82 http://archive.ubuntu.com/ubuntu jammy/universe amd64 texlive-base all 2021.20220204-1 [21.0 MB]\n",
            "Get:83 http://archive.ubuntu.com/ubuntu jammy/universe amd64 texlive-fonts-extra all 2021.20220204-1 [484 MB]\n",
            "Get:84 http://archive.ubuntu.com/ubuntu jammy/universe amd64 fonts-stix all 1.1.1-4.1 [589 kB]\n",
            "Get:85 http://archive.ubuntu.com/ubuntu jammy/universe amd64 texlive-fonts-extra-links all 2021.20220204-1 [20.3 kB]\n",
            "Get:86 http://archive.ubuntu.com/ubuntu jammy/universe amd64 texlive-fonts-recommended all 2021.20220204-1 [4,972 kB]\n",
            "Get:87 http://archive.ubuntu.com/ubuntu jammy/universe amd64 texlive-lang-greek all 2021.20220204-1 [77.8 MB]\n",
            "Get:88 http://archive.ubuntu.com/ubuntu jammy/universe amd64 texlive-latex-base all 2021.20220204-1 [1,128 kB]\n",
            "Get:89 http://archive.ubuntu.com/ubuntu jammy/universe amd64 libfontbox-java all 1:1.8.16-2 [207 kB]\n",
            "Get:90 http://archive.ubuntu.com/ubuntu jammy/universe amd64 libpdfbox-java all 1:1.8.16-2 [5,199 kB]\n",
            "Get:91 http://archive.ubuntu.com/ubuntu jammy/universe amd64 texlive-latex-recommended all 2021.20220204-1 [14.4 MB]\n",
            "Get:92 http://archive.ubuntu.com/ubuntu jammy/universe amd64 texlive-pictures all 2021.20220204-1 [8,720 kB]\n",
            "Get:93 http://archive.ubuntu.com/ubuntu jammy/universe amd64 texlive-latex-extra all 2021.20220204-1 [13.9 MB]\n",
            "Get:94 http://archive.ubuntu.com/ubuntu jammy/universe amd64 texlive-plain-generic all 2021.20220204-1 [27.5 MB]\n",
            "Get:95 http://archive.ubuntu.com/ubuntu jammy/universe amd64 texlive-science all 2021.20220204-1 [3,619 kB]\n",
            "Get:96 http://archive.ubuntu.com/ubuntu jammy/universe amd64 tipa all 2:1.3-21 [2,967 kB]\n",
            "Fetched 794 MB in 19s (41.5 MB/s)\n",
            "debconf: unable to initialize frontend: Dialog\n",
            "debconf: (No usable dialog-like program is installed, so the dialog based frontend cannot be used. at /usr/share/perl5/Debconf/FrontEnd/Dialog.pm line 78, <> line 96.)\n",
            "debconf: falling back to frontend: Readline\n",
            "debconf: unable to initialize frontend: Readline\n",
            "debconf: (This frontend requires a controlling tty.)\n",
            "debconf: falling back to frontend: Teletype\n",
            "dpkg-preconfigure: unable to re-open stdin: \n",
            "Selecting previously unselected package fonts-droid-fallback.\n",
            "(Reading database ... 125311 files and directories currently installed.)\n",
            "Preparing to unpack .../00-fonts-droid-fallback_1%3a6.0.1r16-1.1build1_all.deb ...\n",
            "Unpacking fonts-droid-fallback (1:6.0.1r16-1.1build1) ...\n",
            "Selecting previously unselected package fonts-lato.\n",
            "Preparing to unpack .../01-fonts-lato_2.0-2.1_all.deb ...\n",
            "Unpacking fonts-lato (2.0-2.1) ...\n",
            "Selecting previously unselected package poppler-data.\n",
            "Preparing to unpack .../02-poppler-data_0.4.11-1_all.deb ...\n",
            "Unpacking poppler-data (0.4.11-1) ...\n",
            "Selecting previously unselected package tex-common.\n",
            "Preparing to unpack .../03-tex-common_6.17_all.deb ...\n",
            "Unpacking tex-common (6.17) ...\n",
            "Selecting previously unselected package fonts-urw-base35.\n",
            "Preparing to unpack .../04-fonts-urw-base35_20200910-1_all.deb ...\n",
            "Unpacking fonts-urw-base35 (20200910-1) ...\n",
            "Selecting previously unselected package libgs9-common.\n",
            "Preparing to unpack .../05-libgs9-common_9.55.0~dfsg1-0ubuntu5.13_all.deb ...\n",
            "Unpacking libgs9-common (9.55.0~dfsg1-0ubuntu5.13) ...\n",
            "Selecting previously unselected package libidn12:amd64.\n",
            "Preparing to unpack .../06-libidn12_1.38-4ubuntu1_amd64.deb ...\n",
            "Unpacking libidn12:amd64 (1.38-4ubuntu1) ...\n",
            "Selecting previously unselected package libijs-0.35:amd64.\n",
            "Preparing to unpack .../07-libijs-0.35_0.35-15build2_amd64.deb ...\n",
            "Unpacking libijs-0.35:amd64 (0.35-15build2) ...\n",
            "Selecting previously unselected package libjbig2dec0:amd64.\n",
            "Preparing to unpack .../08-libjbig2dec0_0.19-3build2_amd64.deb ...\n",
            "Unpacking libjbig2dec0:amd64 (0.19-3build2) ...\n",
            "Selecting previously unselected package libgs9:amd64.\n",
            "Preparing to unpack .../09-libgs9_9.55.0~dfsg1-0ubuntu5.13_amd64.deb ...\n",
            "Unpacking libgs9:amd64 (9.55.0~dfsg1-0ubuntu5.13) ...\n",
            "Selecting previously unselected package libkpathsea6:amd64.\n",
            "Preparing to unpack .../10-libkpathsea6_2021.20210626.59705-1ubuntu0.2_amd64.deb ...\n",
            "Unpacking libkpathsea6:amd64 (2021.20210626.59705-1ubuntu0.2) ...\n",
            "Selecting previously unselected package libwoff1:amd64.\n",
            "Preparing to unpack .../11-libwoff1_1.0.2-1build4_amd64.deb ...\n",
            "Unpacking libwoff1:amd64 (1.0.2-1build4) ...\n",
            "Selecting previously unselected package dvisvgm.\n",
            "Preparing to unpack .../12-dvisvgm_2.13.1-1_amd64.deb ...\n",
            "Unpacking dvisvgm (2.13.1-1) ...\n",
            "Selecting previously unselected package fonts-adf-accanthis.\n",
            "Preparing to unpack .../13-fonts-adf-accanthis_0.20190904-2_all.deb ...\n",
            "Unpacking fonts-adf-accanthis (0.20190904-2) ...\n",
            "Selecting previously unselected package fonts-adf-berenis.\n",
            "Preparing to unpack .../14-fonts-adf-berenis_0.20190904-2_all.deb ...\n",
            "Unpacking fonts-adf-berenis (0.20190904-2) ...\n",
            "Selecting previously unselected package fonts-adf-gillius.\n",
            "Preparing to unpack .../15-fonts-adf-gillius_0.20190904-2_all.deb ...\n",
            "Unpacking fonts-adf-gillius (0.20190904-2) ...\n",
            "Selecting previously unselected package fonts-adf-universalis.\n",
            "Preparing to unpack .../16-fonts-adf-universalis_0.20190904-2_all.deb ...\n",
            "Unpacking fonts-adf-universalis (0.20190904-2) ...\n",
            "Selecting previously unselected package fonts-cabin.\n",
            "Preparing to unpack .../17-fonts-cabin_1.5-3_all.deb ...\n",
            "Unpacking fonts-cabin (1.5-3) ...\n",
            "Selecting previously unselected package fonts-cantarell.\n",
            "Preparing to unpack .../18-fonts-cantarell_0.303-2_all.deb ...\n",
            "Unpacking fonts-cantarell (0.303-2) ...\n",
            "Selecting previously unselected package fonts-comfortaa.\n",
            "Preparing to unpack .../19-fonts-comfortaa_3.001-3_all.deb ...\n",
            "Unpacking fonts-comfortaa (3.001-3) ...\n",
            "Selecting previously unselected package fonts-croscore.\n",
            "Preparing to unpack .../20-fonts-croscore_20201225-1build1_all.deb ...\n",
            "Unpacking fonts-croscore (20201225-1build1) ...\n",
            "Selecting previously unselected package fonts-crosextra-caladea.\n",
            "Preparing to unpack .../21-fonts-crosextra-caladea_20130214-2.1_all.deb ...\n",
            "Unpacking fonts-crosextra-caladea (20130214-2.1) ...\n",
            "Selecting previously unselected package fonts-crosextra-carlito.\n",
            "Preparing to unpack .../22-fonts-crosextra-carlito_20130920-1.1_all.deb ...\n",
            "Unpacking fonts-crosextra-carlito (20130920-1.1) ...\n",
            "Selecting previously unselected package fonts-dejavu-core.\n",
            "Preparing to unpack .../23-fonts-dejavu-core_2.37-2build1_all.deb ...\n",
            "Unpacking fonts-dejavu-core (2.37-2build1) ...\n",
            "Selecting previously unselected package fonts-dejavu-extra.\n",
            "Preparing to unpack .../24-fonts-dejavu-extra_2.37-2build1_all.deb ...\n",
            "Unpacking fonts-dejavu-extra (2.37-2build1) ...\n",
            "Selecting previously unselected package fonts-ebgaramond.\n",
            "Preparing to unpack .../25-fonts-ebgaramond_0.016+git20210310.42d4f9f2-1_all.deb ...\n",
            "Unpacking fonts-ebgaramond (0.016+git20210310.42d4f9f2-1) ...\n",
            "Selecting previously unselected package fonts-ebgaramond-extra.\n",
            "Preparing to unpack .../26-fonts-ebgaramond-extra_0.016+git20210310.42d4f9f2-1_all.deb ...\n",
            "Unpacking fonts-ebgaramond-extra (0.016+git20210310.42d4f9f2-1) ...\n",
            "Selecting previously unselected package fonts-font-awesome.\n",
            "Preparing to unpack .../27-fonts-font-awesome_5.0.10+really4.7.0~dfsg-4.1_all.deb ...\n",
            "Unpacking fonts-font-awesome (5.0.10+really4.7.0~dfsg-4.1) ...\n",
            "Selecting previously unselected package fonts-freefont-otf.\n",
            "Preparing to unpack .../28-fonts-freefont-otf_20120503-10build1_all.deb ...\n",
            "Unpacking fonts-freefont-otf (20120503-10build1) ...\n",
            "Selecting previously unselected package fonts-freefont-ttf.\n",
            "Preparing to unpack .../29-fonts-freefont-ttf_20120503-10build1_all.deb ...\n",
            "Unpacking fonts-freefont-ttf (20120503-10build1) ...\n",
            "Selecting previously unselected package fonts-gfs-artemisia.\n",
            "Preparing to unpack .../30-fonts-gfs-artemisia_1.1-6_all.deb ...\n",
            "Unpacking fonts-gfs-artemisia (1.1-6) ...\n",
            "Selecting previously unselected package fonts-gfs-baskerville.\n",
            "Preparing to unpack .../31-fonts-gfs-baskerville_1.1-6_all.deb ...\n",
            "Unpacking fonts-gfs-baskerville (1.1-6) ...\n",
            "Selecting previously unselected package fonts-gfs-complutum.\n",
            "Preparing to unpack .../32-fonts-gfs-complutum_1.1-7_all.deb ...\n",
            "Unpacking fonts-gfs-complutum (1.1-7) ...\n",
            "Selecting previously unselected package fonts-gfs-didot.\n",
            "Preparing to unpack .../33-fonts-gfs-didot_1.1-7_all.deb ...\n",
            "Unpacking fonts-gfs-didot (1.1-7) ...\n",
            "Selecting previously unselected package fonts-gfs-neohellenic.\n",
            "Preparing to unpack .../34-fonts-gfs-neohellenic_1.1-7_all.deb ...\n",
            "Unpacking fonts-gfs-neohellenic (1.1-7) ...\n",
            "Selecting previously unselected package fonts-gfs-olga.\n",
            "Preparing to unpack .../35-fonts-gfs-olga_1.1-6_all.deb ...\n",
            "Unpacking fonts-gfs-olga (1.1-6) ...\n",
            "Selecting previously unselected package fonts-gfs-porson.\n",
            "Preparing to unpack .../36-fonts-gfs-porson_1.1-7_all.deb ...\n",
            "Unpacking fonts-gfs-porson (1.1-7) ...\n",
            "Selecting previously unselected package fonts-gfs-solomos.\n",
            "Preparing to unpack .../37-fonts-gfs-solomos_1.1-6_all.deb ...\n",
            "Unpacking fonts-gfs-solomos (1.1-6) ...\n",
            "Selecting previously unselected package fonts-go.\n",
            "Preparing to unpack .../38-fonts-go_0~20170330-1_all.deb ...\n",
            "Unpacking fonts-go (0~20170330-1) ...\n",
            "Selecting previously unselected package fonts-junicode.\n",
            "Preparing to unpack .../39-fonts-junicode_1.002-2_all.deb ...\n",
            "Unpacking fonts-junicode (1.002-2) ...\n",
            "Selecting previously unselected package fonts-linuxlibertine.\n",
            "Preparing to unpack .../40-fonts-linuxlibertine_5.3.0-6_all.deb ...\n",
            "Unpacking fonts-linuxlibertine (5.3.0-6) ...\n",
            "Selecting previously unselected package fonts-lmodern.\n",
            "Preparing to unpack .../41-fonts-lmodern_2.004.5-6.1_all.deb ...\n",
            "Unpacking fonts-lmodern (2.004.5-6.1) ...\n",
            "Selecting previously unselected package fonts-lobster.\n",
            "Preparing to unpack .../42-fonts-lobster_2.0-2.1_all.deb ...\n",
            "Unpacking fonts-lobster (2.0-2.1) ...\n",
            "Selecting previously unselected package fonts-lobstertwo.\n",
            "Preparing to unpack .../43-fonts-lobstertwo_2.0-2.1_all.deb ...\n",
            "Unpacking fonts-lobstertwo (2.0-2.1) ...\n",
            "Selecting previously unselected package fonts-noto-color-emoji.\n",
            "Preparing to unpack .../44-fonts-noto-color-emoji_2.047-0ubuntu0.22.04.1_all.deb ...\n",
            "Unpacking fonts-noto-color-emoji (2.047-0ubuntu0.22.04.1) ...\n",
            "Selecting previously unselected package fonts-noto-core.\n",
            "Preparing to unpack .../45-fonts-noto-core_20201225-1build1_all.deb ...\n",
            "Unpacking fonts-noto-core (20201225-1build1) ...\n",
            "Selecting previously unselected package fonts-noto-mono.\n",
            "Preparing to unpack .../46-fonts-noto-mono_20201225-1build1_all.deb ...\n",
            "Unpacking fonts-noto-mono (20201225-1build1) ...\n",
            "Selecting previously unselected package fonts-oflb-asana-math.\n",
            "Preparing to unpack .../47-fonts-oflb-asana-math_000.907-7build1_all.deb ...\n",
            "Unpacking fonts-oflb-asana-math (000.907-7build1) ...\n",
            "Selecting previously unselected package fonts-open-sans.\n",
            "Preparing to unpack .../48-fonts-open-sans_1.11-2_all.deb ...\n",
            "Unpacking fonts-open-sans (1.11-2) ...\n",
            "Selecting previously unselected package fonts-roboto-unhinted.\n",
            "Preparing to unpack .../49-fonts-roboto-unhinted_2%3a0~20170802-3_all.deb ...\n",
            "Unpacking fonts-roboto-unhinted (2:0~20170802-3) ...\n",
            "Selecting previously unselected package fonts-sil-charis.\n",
            "Preparing to unpack .../50-fonts-sil-charis_6.101-1_all.deb ...\n",
            "Unpacking fonts-sil-charis (6.101-1) ...\n",
            "Selecting previously unselected package fonts-sil-gentium.\n",
            "Preparing to unpack .../51-fonts-sil-gentium_20081126%3a1.03-4_all.deb ...\n",
            "Unpacking fonts-sil-gentium (20081126:1.03-4) ...\n",
            "Selecting previously unselected package fonts-sil-gentium-basic.\n",
            "Preparing to unpack .../52-fonts-sil-gentium-basic_1.102-1.1_all.deb ...\n",
            "Unpacking fonts-sil-gentium-basic (1.102-1.1) ...\n",
            "Selecting previously unselected package fonts-sil-gentiumplus.\n",
            "Preparing to unpack .../53-fonts-sil-gentiumplus_6.101-1_all.deb ...\n",
            "Unpacking fonts-sil-gentiumplus (6.101-1) ...\n",
            "Selecting previously unselected package fonts-sil-gentiumplus-compact.\n",
            "Preparing to unpack .../54-fonts-sil-gentiumplus-compact_5.000-4_all.deb ...\n",
            "Unpacking fonts-sil-gentiumplus-compact (5.000-4) ...\n",
            "Selecting previously unselected package fonts-texgyre.\n",
            "Preparing to unpack .../55-fonts-texgyre_20180621-3.1_all.deb ...\n",
            "Unpacking fonts-texgyre (20180621-3.1) ...\n",
            "Selecting previously unselected package libapache-pom-java.\n",
            "Preparing to unpack .../56-libapache-pom-java_18-1_all.deb ...\n",
            "Unpacking libapache-pom-java (18-1) ...\n",
            "Selecting previously unselected package libcommons-parent-java.\n",
            "Preparing to unpack .../57-libcommons-parent-java_43-1_all.deb ...\n",
            "Unpacking libcommons-parent-java (43-1) ...\n",
            "Selecting previously unselected package libcommons-logging-java.\n",
            "Preparing to unpack .../58-libcommons-logging-java_1.2-2_all.deb ...\n",
            "Unpacking libcommons-logging-java (1.2-2) ...\n",
            "Selecting previously unselected package libptexenc1:amd64.\n",
            "Preparing to unpack .../59-libptexenc1_2021.20210626.59705-1ubuntu0.2_amd64.deb ...\n",
            "Unpacking libptexenc1:amd64 (2021.20210626.59705-1ubuntu0.2) ...\n",
            "Selecting previously unselected package rubygems-integration.\n",
            "Preparing to unpack .../60-rubygems-integration_1.18_all.deb ...\n",
            "Unpacking rubygems-integration (1.18) ...\n",
            "Selecting previously unselected package ruby3.0.\n",
            "Preparing to unpack .../61-ruby3.0_3.0.2-7ubuntu2.11_amd64.deb ...\n",
            "Unpacking ruby3.0 (3.0.2-7ubuntu2.11) ...\n",
            "Selecting previously unselected package ruby-rubygems.\n",
            "Preparing to unpack .../62-ruby-rubygems_3.3.5-2ubuntu1.2_all.deb ...\n",
            "Unpacking ruby-rubygems (3.3.5-2ubuntu1.2) ...\n",
            "Selecting previously unselected package ruby.\n",
            "Preparing to unpack .../63-ruby_1%3a3.0~exp1_amd64.deb ...\n",
            "Unpacking ruby (1:3.0~exp1) ...\n",
            "Selecting previously unselected package rake.\n",
            "Preparing to unpack .../64-rake_13.0.6-2_all.deb ...\n",
            "Unpacking rake (13.0.6-2) ...\n",
            "Selecting previously unselected package ruby-net-telnet.\n",
            "Preparing to unpack .../65-ruby-net-telnet_0.1.1-2_all.deb ...\n",
            "Unpacking ruby-net-telnet (0.1.1-2) ...\n",
            "Selecting previously unselected package ruby-webrick.\n",
            "Preparing to unpack .../66-ruby-webrick_1.7.0-3ubuntu0.2_all.deb ...\n",
            "Unpacking ruby-webrick (1.7.0-3ubuntu0.2) ...\n",
            "Selecting previously unselected package ruby-xmlrpc.\n",
            "Preparing to unpack .../67-ruby-xmlrpc_0.3.2-1ubuntu0.1_all.deb ...\n",
            "Unpacking ruby-xmlrpc (0.3.2-1ubuntu0.1) ...\n",
            "Selecting previously unselected package libruby3.0:amd64.\n",
            "Preparing to unpack .../68-libruby3.0_3.0.2-7ubuntu2.11_amd64.deb ...\n",
            "Unpacking libruby3.0:amd64 (3.0.2-7ubuntu2.11) ...\n",
            "Selecting previously unselected package libsynctex2:amd64.\n",
            "Preparing to unpack .../69-libsynctex2_2021.20210626.59705-1ubuntu0.2_amd64.deb ...\n",
            "Unpacking libsynctex2:amd64 (2021.20210626.59705-1ubuntu0.2) ...\n",
            "Selecting previously unselected package libteckit0:amd64.\n",
            "Preparing to unpack .../70-libteckit0_2.5.11+ds1-1_amd64.deb ...\n",
            "Unpacking libteckit0:amd64 (2.5.11+ds1-1) ...\n",
            "Selecting previously unselected package libtexlua53:amd64.\n",
            "Preparing to unpack .../71-libtexlua53_2021.20210626.59705-1ubuntu0.2_amd64.deb ...\n",
            "Unpacking libtexlua53:amd64 (2021.20210626.59705-1ubuntu0.2) ...\n",
            "Selecting previously unselected package libtexluajit2:amd64.\n",
            "Preparing to unpack .../72-libtexluajit2_2021.20210626.59705-1ubuntu0.2_amd64.deb ...\n",
            "Unpacking libtexluajit2:amd64 (2021.20210626.59705-1ubuntu0.2) ...\n",
            "Selecting previously unselected package libzzip-0-13:amd64.\n",
            "Preparing to unpack .../73-libzzip-0-13_0.13.72+dfsg.1-1.1_amd64.deb ...\n",
            "Unpacking libzzip-0-13:amd64 (0.13.72+dfsg.1-1.1) ...\n",
            "Selecting previously unselected package xfonts-encodings.\n",
            "Preparing to unpack .../74-xfonts-encodings_1%3a1.0.5-0ubuntu2_all.deb ...\n",
            "Unpacking xfonts-encodings (1:1.0.5-0ubuntu2) ...\n",
            "Selecting previously unselected package xfonts-utils.\n",
            "Preparing to unpack .../75-xfonts-utils_1%3a7.7+6build2_amd64.deb ...\n",
            "Unpacking xfonts-utils (1:7.7+6build2) ...\n",
            "Selecting previously unselected package lmodern.\n",
            "Preparing to unpack .../76-lmodern_2.004.5-6.1_all.deb ...\n",
            "Unpacking lmodern (2.004.5-6.1) ...\n",
            "Selecting previously unselected package preview-latex-style.\n",
            "Preparing to unpack .../77-preview-latex-style_12.2-1ubuntu1_all.deb ...\n",
            "Unpacking preview-latex-style (12.2-1ubuntu1) ...\n",
            "Selecting previously unselected package t1utils.\n",
            "Preparing to unpack .../78-t1utils_1.41-4build2_amd64.deb ...\n",
            "Unpacking t1utils (1.41-4build2) ...\n",
            "Selecting previously unselected package tex-gyre.\n",
            "Preparing to unpack .../79-tex-gyre_20180621-3.1_all.deb ...\n",
            "Unpacking tex-gyre (20180621-3.1) ...\n",
            "Selecting previously unselected package texlive-binaries.\n",
            "Preparing to unpack .../80-texlive-binaries_2021.20210626.59705-1ubuntu0.2_amd64.deb ...\n",
            "Unpacking texlive-binaries (2021.20210626.59705-1ubuntu0.2) ...\n",
            "Selecting previously unselected package texlive-base.\n",
            "Preparing to unpack .../81-texlive-base_2021.20220204-1_all.deb ...\n",
            "Unpacking texlive-base (2021.20220204-1) ...\n",
            "Selecting previously unselected package texlive-fonts-extra.\n",
            "Preparing to unpack .../82-texlive-fonts-extra_2021.20220204-1_all.deb ...\n",
            "Unpacking texlive-fonts-extra (2021.20220204-1) ...\n",
            "Selecting previously unselected package fonts-stix.\n",
            "Preparing to unpack .../83-fonts-stix_1.1.1-4.1_all.deb ...\n",
            "Unpacking fonts-stix (1.1.1-4.1) ...\n",
            "Selecting previously unselected package texlive-fonts-extra-links.\n",
            "Preparing to unpack .../84-texlive-fonts-extra-links_2021.20220204-1_all.deb ...\n",
            "Unpacking texlive-fonts-extra-links (2021.20220204-1) ...\n",
            "Selecting previously unselected package texlive-fonts-recommended.\n",
            "Preparing to unpack .../85-texlive-fonts-recommended_2021.20220204-1_all.deb ...\n",
            "Unpacking texlive-fonts-recommended (2021.20220204-1) ...\n",
            "Selecting previously unselected package texlive-lang-greek.\n",
            "Preparing to unpack .../86-texlive-lang-greek_2021.20220204-1_all.deb ...\n",
            "Unpacking texlive-lang-greek (2021.20220204-1) ...\n",
            "Selecting previously unselected package texlive-latex-base.\n",
            "Preparing to unpack .../87-texlive-latex-base_2021.20220204-1_all.deb ...\n",
            "Unpacking texlive-latex-base (2021.20220204-1) ...\n",
            "Selecting previously unselected package libfontbox-java.\n",
            "Preparing to unpack .../88-libfontbox-java_1%3a1.8.16-2_all.deb ...\n",
            "Unpacking libfontbox-java (1:1.8.16-2) ...\n",
            "Selecting previously unselected package libpdfbox-java.\n",
            "Preparing to unpack .../89-libpdfbox-java_1%3a1.8.16-2_all.deb ...\n",
            "Unpacking libpdfbox-java (1:1.8.16-2) ...\n",
            "Selecting previously unselected package texlive-latex-recommended.\n",
            "Preparing to unpack .../90-texlive-latex-recommended_2021.20220204-1_all.deb ...\n",
            "Unpacking texlive-latex-recommended (2021.20220204-1) ...\n",
            "Selecting previously unselected package texlive-pictures.\n",
            "Preparing to unpack .../91-texlive-pictures_2021.20220204-1_all.deb ...\n",
            "Unpacking texlive-pictures (2021.20220204-1) ...\n",
            "Selecting previously unselected package texlive-latex-extra.\n",
            "Preparing to unpack .../92-texlive-latex-extra_2021.20220204-1_all.deb ...\n",
            "Unpacking texlive-latex-extra (2021.20220204-1) ...\n",
            "Selecting previously unselected package texlive-plain-generic.\n",
            "Preparing to unpack .../93-texlive-plain-generic_2021.20220204-1_all.deb ...\n",
            "Unpacking texlive-plain-generic (2021.20220204-1) ...\n",
            "Selecting previously unselected package texlive-science.\n",
            "Preparing to unpack .../94-texlive-science_2021.20220204-1_all.deb ...\n",
            "Unpacking texlive-science (2021.20220204-1) ...\n",
            "Selecting previously unselected package tipa.\n",
            "Preparing to unpack .../95-tipa_2%3a1.3-21_all.deb ...\n",
            "Unpacking tipa (2:1.3-21) ...\n",
            "Setting up fonts-gfs-didot (1.1-7) ...\n",
            "Setting up fonts-gfs-artemisia (1.1-6) ...\n",
            "Setting up fonts-sil-gentium-basic (1.102-1.1) ...\n",
            "Setting up fonts-cantarell (0.303-2) ...\n",
            "Setting up fonts-ebgaramond (0.016+git20210310.42d4f9f2-1) ...\n",
            "Setting up fonts-lato (2.0-2.1) ...\n",
            "Setting up fonts-junicode (1.002-2) ...\n",
            "Setting up fonts-noto-mono (20201225-1build1) ...\n",
            "Setting up fonts-gfs-porson (1.1-7) ...\n",
            "Setting up libwoff1:amd64 (1.0.2-1build4) ...\n",
            "Setting up fonts-noto-color-emoji (2.047-0ubuntu0.22.04.1) ...\n",
            "Setting up libtexlua53:amd64 (2021.20210626.59705-1ubuntu0.2) ...\n",
            "Setting up fonts-adf-berenis (0.20190904-2) ...\n",
            "Setting up libijs-0.35:amd64 (0.35-15build2) ...\n",
            "Setting up libtexluajit2:amd64 (2021.20210626.59705-1ubuntu0.2) ...\n",
            "Setting up libfontbox-java (1:1.8.16-2) ...\n",
            "Setting up fonts-freefont-otf (20120503-10build1) ...\n",
            "Setting up fonts-freefont-ttf (20120503-10build1) ...\n",
            "Setting up fonts-gfs-solomos (1.1-6) ...\n",
            "Setting up fonts-comfortaa (3.001-3) ...\n",
            "Setting up rubygems-integration (1.18) ...\n",
            "Setting up libzzip-0-13:amd64 (0.13.72+dfsg.1-1.1) ...\n",
            "Setting up fonts-sil-gentiumplus-compact (5.000-4) ...\n",
            "Setting up fonts-roboto-unhinted (2:0~20170802-3) ...\n",
            "Setting up fonts-urw-base35 (20200910-1) ...\n",
            "Setting up fonts-open-sans (1.11-2) ...\n",
            "Setting up fonts-sil-gentiumplus (6.101-1) ...\n",
            "Setting up fonts-gfs-neohellenic (1.1-7) ...\n",
            "Setting up fonts-gfs-olga (1.1-6) ...\n",
            "Setting up fonts-oflb-asana-math (000.907-7build1) ...\n",
            "Setting up poppler-data (0.4.11-1) ...\n",
            "Setting up fonts-crosextra-carlito (20130920-1.1) ...\n",
            "Setting up fonts-adf-accanthis (0.20190904-2) ...\n",
            "Setting up tex-common (6.17) ...\n",
            "debconf: unable to initialize frontend: Dialog\n",
            "debconf: (No usable dialog-like program is installed, so the dialog based frontend cannot be used. at /usr/share/perl5/Debconf/FrontEnd/Dialog.pm line 78.)\n",
            "debconf: falling back to frontend: Readline\n",
            "update-language: texlive-base not installed and configured, doing nothing!\n",
            "Setting up fonts-sil-gentium (20081126:1.03-4) ...\n",
            "Setting up fonts-adf-universalis (0.20190904-2) ...\n",
            "Setting up fonts-stix (1.1.1-4.1) ...\n",
            "Setting up fonts-sil-charis (6.101-1) ...\n",
            "Setting up libjbig2dec0:amd64 (0.19-3build2) ...\n",
            "Setting up fonts-go (0~20170330-1) ...\n",
            "Setting up libteckit0:amd64 (2.5.11+ds1-1) ...\n",
            "Setting up libapache-pom-java (18-1) ...\n",
            "Setting up ruby-net-telnet (0.1.1-2) ...\n",
            "Setting up fonts-cabin (1.5-3) ...\n",
            "Setting up xfonts-encodings (1:1.0.5-0ubuntu2) ...\n",
            "Setting up t1utils (1.41-4build2) ...\n",
            "Setting up libidn12:amd64 (1.38-4ubuntu1) ...\n",
            "Setting up fonts-dejavu-core (2.37-2build1) ...\n",
            "Setting up fonts-texgyre (20180621-3.1) ...\n",
            "Setting up fonts-linuxlibertine (5.3.0-6) ...\n",
            "Setting up libkpathsea6:amd64 (2021.20210626.59705-1ubuntu0.2) ...\n",
            "Setting up fonts-croscore (20201225-1build1) ...\n",
            "Setting up ruby-webrick (1.7.0-3ubuntu0.2) ...\n",
            "Setting up fonts-dejavu-extra (2.37-2build1) ...\n",
            "Setting up fonts-gfs-baskerville (1.1-6) ...\n",
            "Setting up fonts-gfs-complutum (1.1-7) ...\n",
            "Setting up fonts-crosextra-caladea (20130214-2.1) ...\n",
            "Setting up fonts-lmodern (2.004.5-6.1) ...\n",
            "Setting up fonts-ebgaramond-extra (0.016+git20210310.42d4f9f2-1) ...\n",
            "Setting up fonts-lobster (2.0-2.1) ...\n",
            "Setting up fonts-droid-fallback (1:6.0.1r16-1.1build1) ...\n",
            "Setting up fonts-adf-gillius (0.20190904-2) ...\n",
            "Setting up ruby-xmlrpc (0.3.2-1ubuntu0.1) ...\n",
            "Setting up fonts-noto-core (20201225-1build1) ...\n",
            "Setting up fonts-font-awesome (5.0.10+really4.7.0~dfsg-4.1) ...\n",
            "Setting up libsynctex2:amd64 (2021.20210626.59705-1ubuntu0.2) ...\n",
            "Setting up libgs9-common (9.55.0~dfsg1-0ubuntu5.13) ...\n",
            "Setting up libpdfbox-java (1:1.8.16-2) ...\n",
            "Setting up libgs9:amd64 (9.55.0~dfsg1-0ubuntu5.13) ...\n",
            "Setting up preview-latex-style (12.2-1ubuntu1) ...\n",
            "Setting up libcommons-parent-java (43-1) ...\n",
            "Setting up dvisvgm (2.13.1-1) ...\n",
            "Setting up libcommons-logging-java (1.2-2) ...\n",
            "Setting up xfonts-utils (1:7.7+6build2) ...\n",
            "Setting up fonts-lobstertwo (2.0-2.1) ...\n",
            "Setting up libptexenc1:amd64 (2021.20210626.59705-1ubuntu0.2) ...\n",
            "Setting up texlive-fonts-extra-links (2021.20220204-1) ...\n",
            "Setting up texlive-binaries (2021.20210626.59705-1ubuntu0.2) ...\n",
            "update-alternatives: using /usr/bin/xdvi-xaw to provide /usr/bin/xdvi.bin (xdvi.bin) in auto mode\n",
            "update-alternatives: using /usr/bin/bibtex.original to provide /usr/bin/bibtex (bibtex) in auto mode\n",
            "Setting up lmodern (2.004.5-6.1) ...\n",
            "Setting up texlive-base (2021.20220204-1) ...\n",
            "/usr/bin/ucfr\n",
            "/usr/bin/ucfr\n",
            "/usr/bin/ucfr\n",
            "/usr/bin/ucfr\n",
            "mktexlsr: Updating /var/lib/texmf/ls-R-TEXLIVEDIST... \n",
            "mktexlsr: Updating /var/lib/texmf/ls-R-TEXMFMAIN... \n",
            "mktexlsr: Updating /var/lib/texmf/ls-R... \n",
            "mktexlsr: Done.\n",
            "tl-paper: setting paper size for dvips to a4: /var/lib/texmf/dvips/config/config-paper.ps\n",
            "tl-paper: setting paper size for dvipdfmx to a4: /var/lib/texmf/dvipdfmx/dvipdfmx-paper.cfg\n",
            "tl-paper: setting paper size for xdvi to a4: /var/lib/texmf/xdvi/XDvi-paper\n",
            "tl-paper: setting paper size for pdftex to a4: /var/lib/texmf/tex/generic/tex-ini-files/pdftexconfig.tex\n",
            "debconf: unable to initialize frontend: Dialog\n",
            "debconf: (No usable dialog-like program is installed, so the dialog based frontend cannot be used. at /usr/share/perl5/Debconf/FrontEnd/Dialog.pm line 78.)\n",
            "debconf: falling back to frontend: Readline\n",
            "Setting up tex-gyre (20180621-3.1) ...\n",
            "Setting up texlive-plain-generic (2021.20220204-1) ...\n",
            "Setting up texlive-lang-greek (2021.20220204-1) ...\n",
            "Setting up texlive-latex-base (2021.20220204-1) ...\n",
            "Setting up texlive-fonts-extra (2021.20220204-1) ...\n",
            "Setting up texlive-latex-recommended (2021.20220204-1) ...\n",
            "Setting up texlive-pictures (2021.20220204-1) ...\n",
            "Setting up texlive-fonts-recommended (2021.20220204-1) ...\n",
            "Setting up tipa (2:1.3-21) ...\n",
            "Setting up texlive-science (2021.20220204-1) ...\n",
            "Setting up texlive-latex-extra (2021.20220204-1) ...\n",
            "Setting up libruby3.0:amd64 (3.0.2-7ubuntu2.11) ...\n",
            "Setting up ruby3.0 (3.0.2-7ubuntu2.11) ...\n",
            "Setting up ruby (1:3.0~exp1) ...\n",
            "Setting up rake (13.0.6-2) ...\n",
            "Setting up ruby-rubygems (3.3.5-2ubuntu1.2) ...\n",
            "Processing triggers for man-db (2.10.2-1) ...\n",
            "Processing triggers for mailcap (3.70+nmu1ubuntu1) ...\n",
            "Processing triggers for fontconfig (2.13.1-4.2ubuntu5) ...\n",
            "Processing triggers for libc-bin (2.35-0ubuntu3.8) ...\n",
            "/sbin/ldconfig.real: /usr/local/lib/libur_loader.so.0 is not a symbolic link\n",
            "\n",
            "/sbin/ldconfig.real: /usr/local/lib/libhwloc.so.15 is not a symbolic link\n",
            "\n",
            "/sbin/ldconfig.real: /usr/local/lib/libtbbmalloc_proxy.so.2 is not a symbolic link\n",
            "\n",
            "/sbin/ldconfig.real: /usr/local/lib/libur_adapter_opencl.so.0 is not a symbolic link\n",
            "\n",
            "/sbin/ldconfig.real: /usr/local/lib/libtbb.so.12 is not a symbolic link\n",
            "\n",
            "/sbin/ldconfig.real: /usr/local/lib/libtcm.so.1 is not a symbolic link\n",
            "\n",
            "/sbin/ldconfig.real: /usr/local/lib/libur_adapter_level_zero.so.0 is not a symbolic link\n",
            "\n",
            "/sbin/ldconfig.real: /usr/local/lib/libtcm_debug.so.1 is not a symbolic link\n",
            "\n",
            "/sbin/ldconfig.real: /usr/local/lib/libtbbmalloc.so.2 is not a symbolic link\n",
            "\n",
            "/sbin/ldconfig.real: /usr/local/lib/libtbbbind.so.3 is not a symbolic link\n",
            "\n",
            "/sbin/ldconfig.real: /usr/local/lib/libtbbbind_2_5.so.3 is not a symbolic link\n",
            "\n",
            "/sbin/ldconfig.real: /usr/local/lib/libur_adapter_level_zero_v2.so.0 is not a symbolic link\n",
            "\n",
            "/sbin/ldconfig.real: /usr/local/lib/libtbbbind_2_0.so.3 is not a symbolic link\n",
            "\n",
            "/sbin/ldconfig.real: /usr/local/lib/libumf.so.1 is not a symbolic link\n",
            "\n",
            "Processing triggers for tex-common (6.17) ...\n",
            "debconf: unable to initialize frontend: Dialog\n",
            "debconf: (No usable dialog-like program is installed, so the dialog based frontend cannot be used. at /usr/share/perl5/Debconf/FrontEnd/Dialog.pm line 78.)\n",
            "debconf: falling back to frontend: Readline\n",
            "Running updmap-sys. This may take some time... done.\n",
            "Running mktexlsr /var/lib/texmf ... done.\n",
            "Building format(s) --all.\n",
            "\tThis may take some time... done.\n"
          ]
        }
      ]
    },
    {
      "cell_type": "markdown",
      "source": [
        "Runer doesn't have to be next to the compiler."
      ],
      "metadata": {
        "id": "qx9atWxMocJP"
      }
    },
    {
      "cell_type": "code",
      "source": [
        "from manim import *\n",
        "class Hello(Scene):\n",
        "    def construct(self):\n",
        "        self.play(Write(Text(\"Manim\")))\n",
        "        self.wait(5.5)"
      ],
      "metadata": {
        "id": "ZNnoo6Spn_1Q"
      },
      "execution_count": 7,
      "outputs": []
    },
    {
      "cell_type": "code",
      "source": [
        "%%manim -v WARNING -qm --renderer=cairo Hello"
      ],
      "metadata": {
        "colab": {
          "base_uri": "https://localhost:8080/",
          "height": 362
        },
        "id": "W0X0AdvRoDU9",
        "outputId": "76686efd-bea6-4a7d-e440-5ae7803a4100"
      },
      "execution_count": 6,
      "outputs": [
        {
          "output_type": "display_data",
          "data": {
            "text/plain": [
              "Manim Community \u001b[32mv0.\u001b[0m\u001b[32m19.0\u001b[0m\n",
              "\n"
            ],
            "text/html": [
              "<pre style=\"white-space:pre;overflow-x:auto;line-height:normal;font-family:Menlo,'DejaVu Sans Mono',consolas,'Courier New',monospace\">Manim Community <span style=\"color: #008000; text-decoration-color: #008000\">v0.19.0</span>\n",
              "\n",
              "</pre>\n"
            ]
          },
          "metadata": {}
        },
        {
          "output_type": "stream",
          "name": "stderr",
          "text": []
        },
        {
          "output_type": "display_data",
          "data": {
            "text/plain": [
              "<IPython.core.display.Video object>"
            ],
            "text/html": [
              "<video controls autoplay loop style=\"max-width: 60%;\"  >\n",
              " <source src=\"data:video/mp4;base64,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\" type=\"video/mp4\">\n",
              " Your browser does not support the video tag.\n",
              " </video>"
            ]
          },
          "metadata": {}
        }
      ]
    },
    {
      "cell_type": "markdown",
      "source": [
        "# Ejercicio 2\n",
        "Dado el siguiente problema lineal:\n",
        "\n",
        "$$\n",
        "\\begin{matrix}\n",
        "max  & 3x_1 & + & 2x_2 \\\\\n",
        "s.a. & x_1 & + & 2x_2 & ≤ 6\\\\\n",
        "     & 2x_1 & + & x_2 & ≤ 8\\\\\n",
        "     & -x_1 & + & x_2 & ≤ 1 \\\\\n",
        "     &      &   & x_2 & ≤ 2  \\\\\n",
        "x_1,x_2 & ≥0 &  \\\\\n",
        " &  &  \\\\\n",
        "\\end{matrix}\n",
        "$$\n"
      ],
      "metadata": {
        "id": "mQo_iJT6spD3"
      }
    },
    {
      "cell_type": "markdown",
      "source": [
        "1. Representa gráficamente la región factible del problema."
      ],
      "metadata": {
        "id": "odnyiUvWu_rb"
      }
    },
    {
      "cell_type": "code",
      "metadata": {
        "colab": {
          "base_uri": "https://localhost:8080/",
          "height": 565
        },
        "id": "254b47a0",
        "outputId": "5440d061-1b81-422b-d1ae-b1b0d4209c4e"
      },
      "source": [
        "import matplotlib.pyplot as plt\n",
        "import numpy as np\n",
        "\n",
        "# Define the constraints\n",
        "# x1 + 2x2 <= 6  => x2 <= (6 - x1)/2\n",
        "# 2x1 + x2 <= 8  => x2 <= 8 - 2x1\n",
        "# -x1 + x2 <= 1  => x2 <= 1 + x1\n",
        "# x2 <= 2\n",
        "\n",
        "x = np.linspace(0, 5, 400)\n",
        "y1 = (6 - x) / 2\n",
        "y2 = 8 - 2 * x\n",
        "y3 = 1 + x\n",
        "y4 = 2\n",
        "\n",
        "# Plot the feasible region\n",
        "plt.figure(figsize=(8, 6))\n",
        "plt.plot(x, y1, label=r'$x_1 + 2x_2 \\leq 6$')\n",
        "plt.plot(x, y2, label=r'$2x_1 + x_2 \\leq 8$')\n",
        "plt.plot(x, y3, label=r'$-x_1 + x_2 \\leq 1$')\n",
        "plt.axhline(y=y4, color='purple', linestyle='-', label=r'$x_2 \\leq 2$')\n",
        "plt.axvline(x=0, color='gray', linestyle='--')\n",
        "plt.axhline(y=0, color='gray', linestyle='--')\n",
        "\n",
        "# Fill the feasible region\n",
        "plt.fill_between(x, 0, np.minimum(np.minimum(np.minimum(y1, y2), y3), y4),\n",
        "    where=(x>=0) & (np.minimum(np.minimum(np.minimum(y1, y2), y3), y4)>=0),\n",
        "    color='skyblue', alpha=0.25)\n",
        "\n",
        "# Add the gradient vector of the objective function (3, 2)\n",
        "plt.quiver(0, 0, 3, 2, color='gold', scale=1, angles='xy', scale_units='xy', label=r'$\\nabla z = (3, 2)$')\n",
        "\n",
        "\n",
        "plt.xlim(0, 5)\n",
        "plt.ylim(0, 5)\n",
        "plt.xlabel(r'$x_1$')\n",
        "plt.ylabel(r'$x_2$')\n",
        "plt.title('Region Factible')\n",
        "plt.legend()\n",
        "plt.grid(True)\n",
        "plt.show()"
      ],
      "execution_count": 4,
      "outputs": [
        {
          "output_type": "display_data",
          "data": {
            "text/plain": [
              "<Figure size 800x600 with 1 Axes>"
            ],
            "image/png": "[encoded data removed]"
          },
          "metadata": {}
        }
      ]
    },
    {
      "cell_type": "code",
      "source": [],
      "metadata": {
        "id": "fM7kMfHj10ss"
      },
      "execution_count": 4,
      "outputs": []
    },
    {
      "cell_type": "markdown",
      "source": [
        "2. Resuelve el problema en forma estándar por el algortimo del simplex\n"
      ],
      "metadata": {
        "id": "kYJYHjxqvDaO"
      }
    },
    {
      "cell_type": "markdown",
      "source": [
        "3. Identifica en la representación gráfica el recorrido por los puntos extremos que hace el algoritmo del simplex."
      ],
      "metadata": {
        "id": "VPUxZwekvHH9"
      }
    },
    {
      "cell_type": "markdown",
      "source": [
        "4. Realiza el análisis de sensibilidad de los coeficientes de la función objetivo."
      ],
      "metadata": {
        "id": "hvHh61d3vKll"
      }
    },
    {
      "cell_type": "markdown",
      "source": [
        "5. Realiza el análisis de sensibilidad de los términos independientes de las\n",
        "restricciones."
      ],
      "metadata": {
        "id": "9Y4S1XacvPQ1"
      }
    },
    {
      "cell_type": "markdown",
      "source": [
        "6. ¿Cómo varía la solución óptima si se añade una nueva variable $x_3$ con coeficiente en la función objetivo $c_3 = 4$ y vector columna en las restricciones\n",
        "$(1, 1, −1, −1)^t$?"
      ],
      "metadata": {
        "id": "FqHfongZvQzj"
      }
    },
    {
      "cell_type": "markdown",
      "source": [
        "7. Realiza el análisis de sensibilidad de los coeficientes de la función objetivo\n",
        "y los términos independientes del nuevo problema con tres variables."
      ],
      "metadata": {
        "id": "dm3b-kiUvhMJ"
      }
    },
    {
      "cell_type": "code",
      "source": [],
      "metadata": {
        "id": "NbD_YAugvDPG"
      },
      "execution_count": 4,
      "outputs": []
    },
    {
      "cell_type": "code",
      "execution_count": 4,
      "metadata": {
        "id": "J5nFkqFEsT1o"
      },
      "outputs": [],
      "source": []
    },
    {
      "cell_type": "markdown",
      "source": [
        "# 6. Dada la siguiente tabla del simplex en un problema de minimización:\n",
        "\n",
        "v.b. | 1 | -2 | -1  | 1   | M   | 0   | 0 | $b_0$\n",
        "-----|---|----|-----|-----|-----|-----|---|-------\n",
        "x    | 1 |  0 | 2:3 | 1:3 | 1:3 |-1:3 | 0 | 2\n",
        "y    | 0 | 1  | 1:3 | 2:3 | 2:3 | 1:3 | 0 | 7\n",
        "$s^+_3$ | 3 | 0 | 0 | 4 | 1 | 0 | 0   | 1 | 6\n",
        "__r__ | 0 | 0 | -1 | 2 | $M+1$  | 1   | 0 | 12"
      ],
      "metadata": {
        "id": "3PXUdBxyvqma"
      }
    },
    {
      "cell_type": "markdown",
      "source": [
        "1. ¿La tabla dada corresponde a una solución óptima? Si no es así, continúa con las iteraciones hasta alcanzar una solución óptima?"
      ],
      "metadata": {
        "id": "G-iagUOFxR3g"
      }
    },
    {
      "cell_type": "markdown",
      "source": [
        "2. Para la tabla óptima determinar la matriz $B^{−1}$ asociada con el punto extremo óptimo."
      ],
      "metadata": {
        "id": "E1v-BCABxT7z"
      }
    },
    {
      "cell_type": "markdown",
      "source": [
        "3. Determina cómo es la formulación matemática del problema lineal que se\n",
        "está resolviendo con la tabla del simplex."
      ],
      "metadata": {
        "id": "W1rvsTq9xfTs"
      }
    },
    {
      "cell_type": "markdown",
      "source": [
        "4. Realiza el análisis de sensibilidad de los coeficientes de la función objetivo."
      ],
      "metadata": {
        "id": "oMYHp1LNxjbP"
      }
    },
    {
      "cell_type": "markdown",
      "source": [
        "5. Realiza el análisis de sensibilidad de los términos independientes de las\n",
        "restricciones."
      ],
      "metadata": {
        "id": "RFaRcwlUxkF5"
      }
    },
    {
      "cell_type": "markdown",
      "source": [
        "# 8.1) Resuelve por el algoritmo de escalado afín de paso largo los siguientes problemas lineales\n",
        "\n",
        "$$\n",
        "\\begin{matrix}\n",
        "max  & x_1 & + & 2x_2 & + & x_3\\\\\n",
        "s.a. & 2x_1 & + & x_2 & + & x_3 & = 12\\\\\n",
        "& x_1 & - & 2x_2 & + & 2x_3 & = 12\\\\\n",
        "x_1,x_2, x_3 & ≥0 &  \\\\\n",
        " &  &  \\\\\n",
        "\\end{matrix}\n",
        "$$\n"
      ],
      "metadata": {
        "id": "p4RNJebWx0I-"
      }
    },
    {
      "cell_type": "code",
      "source": [],
      "metadata": {
        "id": "F5fQqKa0xz6a"
      },
      "execution_count": 4,
      "outputs": []
    },
    {
      "cell_type": "code",
      "source": [],
      "metadata": {
        "id": "d-e4YaJ3xOVw"
      },
      "execution_count": 4,
      "outputs": []
    }
  ]
}